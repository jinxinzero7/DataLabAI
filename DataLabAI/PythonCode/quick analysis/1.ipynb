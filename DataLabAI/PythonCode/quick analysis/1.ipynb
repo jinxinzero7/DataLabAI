{
 "cells": [
  {
   "cell_type": "code",
   "execution_count": 2,
   "id": "e210e285-4c30-4f1d-bdb7-42cb106b9ec0",
   "metadata": {},
   "outputs": [],
   "source": [
    "import pandas as pd\n",
    "import json\n",
    "import sys"
   ]
  },
  {
   "cell_type": "code",
   "execution_count": 3,
   "id": "69a40981-8bb8-4819-bf05-c0b91f1f059f",
   "metadata": {},
   "outputs": [
    {
     "name": "stderr",
     "output_type": "stream",
     "text": [
      "C:\\Users\\Zorg\\AppData\\Local\\Temp\\ipykernel_14124\\1344083472.py:8: ParserWarning: Falling back to the 'python' engine because the 'c' engine does not support regex separators (separators > 1 char and different from '\\s+' are interpreted as regex); you can avoid this warning by specifying engine='python'.\n",
      "  data = pd.read_csv(file_path, delimiter=delimiter)\n"
     ]
    },
    {
     "ename": "SystemExit",
     "evalue": "1",
     "output_type": "error",
     "traceback": [
      "An exception has occurred, use %tb to see the full traceback.\n",
      "\u001b[31mSystemExit\u001b[39m\u001b[31m:\u001b[39m 1\n"
     ]
    },
    {
     "name": "stderr",
     "output_type": "stream",
     "text": [
      "D:\\anaconda\\envs\\DataLabAI\\Lib\\site-packages\\IPython\\core\\interactiveshell.py:3675: UserWarning: To exit: use 'exit', 'quit', or Ctrl-D.\n",
      "  warn(\"To exit: use 'exit', 'quit', or Ctrl-D.\", stacklevel=1)\n"
     ]
    }
   ],
   "source": [
    "def main():\n",
    "    try:\n",
    "        # Получаем аргументы командной строки\n",
    "        file_path = sys.argv[1]\n",
    "        delimiter = sys.argv[2] if len(sys.argv) > 2 else ',' # Обработка опционального разделителя\n",
    "\n",
    "        try:\n",
    "            data = pd.read_csv(file_path, delimiter=delimiter)\n",
    "        except Exception as e:\n",
    "            raise ValueError(f\"Ошибка при чтении файла CSV: {e}\")\n",
    "\n",
    "        statistics = {}\n",
    "        for column in data.columns:\n",
    "            try:\n",
    "                column_data = data[column]\n",
    "                stats = {\n",
    "                    \"count\": column_data.count(),\n",
    "                    \"mean\": column_data.mean(),\n",
    "                    \"median\": column_data.median(),\n",
    "                    \"std\": column_data.std(),\n",
    "                    \"min\": column_data.min(),\n",
    "                    \"max\": column_data.max(),\n",
    "                    \"nunique\": column_data.nunique(),\n",
    "                    \"isnull_sum\": column_data.isnull().sum(),\n",
    "                    \"dtype\": str(column_data.dtype)  # Преобразуем тип данных в строку для JSON\n",
    "                }\n",
    "                statistics[column] = stats\n",
    "            except Exception as e:\n",
    "                statistics[column] = {\"error\": str(e)} # Записываем ошибку, если не удалось вычислить статистику\n",
    "\n",
    "        with open(\"results.json\", \"w\", encoding='utf-8') as f: # Указываем кодировку для поддержки кириллицы\n",
    "            json.dump(statistics, f, indent=4, ensure_ascii=False) # ensure_ascii=False для поддержки кириллицы\n",
    "\n",
    "    except Exception as e:\n",
    "        error_message = {\"error\": str(e)}\n",
    "        with open(\"results.json\", \"w\", encoding='utf-8') as f:  # Указываем кодировку\n",
    "            json.dump(error_message, f, indent=4, ensure_ascii=False) # Поддержка кириллицы\n",
    "        sys.exit(1)\n",
    "\n",
    "if __name__ == \"__main__\":\n",
    "    main()"
   ]
  },
  {
   "cell_type": "code",
   "execution_count": null,
   "id": "d70c69e1-b54d-4ad6-aa17-21525839100b",
   "metadata": {},
   "outputs": [],
   "source": []
  }
 ],
 "metadata": {
  "kernelspec": {
   "display_name": "Python 3 (ipykernel)",
   "language": "python",
   "name": "python3"
  },
  "language_info": {
   "codemirror_mode": {
    "name": "ipython",
    "version": 3
   },
   "file_extension": ".py",
   "mimetype": "text/x-python",
   "name": "python",
   "nbconvert_exporter": "python",
   "pygments_lexer": "ipython3",
   "version": "3.11.4"
  }
 },
 "nbformat": 4,
 "nbformat_minor": 5
}
